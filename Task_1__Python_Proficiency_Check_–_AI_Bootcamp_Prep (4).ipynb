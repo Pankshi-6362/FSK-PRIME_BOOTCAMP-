{
  "nbformat": 4,
  "nbformat_minor": 0,
  "metadata": {
    "colab": {
      "provenance": []
    },
    "kernelspec": {
      "name": "python3",
      "display_name": "Python 3"
    },
    "language_info": {
      "name": "python"
    }
  },
  "cells": [
    {
      "cell_type": "markdown",
      "source": [
        "# Task 1: Python Proficiency Check – AI Bootcamp Prep"
      ],
      "metadata": {
        "id": "L982FdumDCVn"
      }
    },
    {
      "cell_type": "markdown",
      "source": [
        "## Section 1: Basics & Control Flow"
      ],
      "metadata": {
        "id": "gk9AwRFXDO6n"
      }
    },
    {
      "cell_type": "markdown",
      "source": [
        "### **Task 1**: FizzBuzz with a Twist\n",
        "\n",
        "*Instruction*: Write a function that prints numbers from 1 to 50. For multiples of 3, print \"AI\", for multiples of 5 print \"Bootcamp\", and for multiples of both 3 and 5 print \"AI Bootcamp\"."
      ],
      "metadata": {
        "id": "tG2LLFb4DSrf"
      }
    },
    {
      "cell_type": "markdown",
      "source": [
        "# New Section"
      ],
      "metadata": {
        "id": "oOwHXUT_oBEx"
      }
    },
    {
      "cell_type": "markdown",
      "source": [
        "### **Task 2**: List Comprehensions and Functions\n",
        "\n",
        "*Instruction*: Given a list of numbers, square only the even numbers using a list comprehension and define a function that returns the result."
      ],
      "metadata": {
        "id": "8YMADBQmDhHU"
      }
    },
    {
      "cell_type": "code",
      "source": [
        "# @title Default title text\n",
        "def fizzbuzz_with_a_twist():\n",
        "    for i in range(1, 51):\n",
        "        if i % 3 == 0 and i % 5 == 0:\n",
        "            print(\"AI Bootcamp\")\n",
        "        elif i % 3 == 0:\n",
        "            print(\"AI\")\n",
        "        elif i % 5 == 0:\n",
        "            print(\"Bootcamp\")\n",
        "        else:\n",
        "            print(i)\n",
        "\n",
        "# Run the function\n",
        "fizzbuzz_with_a_twist()"
      ],
      "metadata": {
        "id": "G6YtbgenDSWH",
        "colab": {
          "base_uri": "https://localhost:8080/"
        },
        "outputId": "73b798c1-36ff-4d51-9e7d-a64ce94e9b72"
      },
      "execution_count": 1,
      "outputs": [
        {
          "output_type": "stream",
          "name": "stdout",
          "text": [
            "1\n",
            "2\n",
            "AI\n",
            "4\n",
            "Bootcamp\n",
            "AI\n",
            "7\n",
            "8\n",
            "AI\n",
            "Bootcamp\n",
            "11\n",
            "AI\n",
            "13\n",
            "14\n",
            "AI Bootcamp\n",
            "16\n",
            "17\n",
            "AI\n",
            "19\n",
            "Bootcamp\n",
            "AI\n",
            "22\n",
            "23\n",
            "AI\n",
            "Bootcamp\n",
            "26\n",
            "AI\n",
            "28\n",
            "29\n",
            "AI Bootcamp\n",
            "31\n",
            "32\n",
            "AI\n",
            "34\n",
            "Bootcamp\n",
            "AI\n",
            "37\n",
            "38\n",
            "AI\n",
            "Bootcamp\n",
            "41\n",
            "AI\n",
            "43\n",
            "44\n",
            "AI Bootcamp\n",
            "46\n",
            "47\n",
            "AI\n",
            "49\n",
            "Bootcamp\n"
          ]
        }
      ]
    },
    {
      "cell_type": "code",
      "execution_count": 2,
      "metadata": {
        "colab": {
          "base_uri": "https://localhost:8080/"
        },
        "id": "sPfpD1yF4LTO",
        "outputId": "33b16218-fe19-459e-f04e-a35c5d1ba322"
      },
      "outputs": [
        {
          "output_type": "stream",
          "name": "stdout",
          "text": [
            "[4, 16, 36, 64, 100]\n"
          ]
        }
      ],
      "source": [
        "def square_even_numbers(numbers):\n",
        "    return [x**2 for x in numbers if x % 2 == 0]\n",
        "\n",
        "# Example usage\n",
        "sample_list = [1, 2, 3, 4, 5, 6, 7, 8, 9, 10]\n",
        "result = square_even_numbers(sample_list)\n",
        "print(result)"
      ]
    },
    {
      "cell_type": "markdown",
      "source": [
        "## Section 2: Data Structures & File I/O"
      ],
      "metadata": {
        "id": "03CKwCBtDzRL"
      }
    },
    {
      "cell_type": "markdown",
      "source": [
        "### **Task 3**: Word Frequency from a File\n",
        "\n",
        "*Instruction*: Read the provided text file (sample.txt) and return the 5 most common words (ignoring punctuation and case)."
      ],
      "metadata": {
        "id": "oh1W_9m5DuzF"
      }
    },
    {
      "cell_type": "code",
      "source": [
        "import re\n",
        "from collections import Counter\n",
        "\n",
        "def get_most_common_words(filename=\"sample.txt\", top_n=5):\n",
        "    \"\"\"\n",
        "    Reads a text file, counts word frequencies (ignoring punctuation and case),\n",
        "    and returns the top N most common words.\n",
        "\n",
        "    Args:\n",
        "        filename (str): The path to the text file.\n",
        "        top_n (int): The number of most common words to return.\n",
        "\n",
        "    Returns:\n",
        "        list: A list of tuples, where each tuple contains a word and its frequency,\n",
        "              sorted in descending order of frequency (top N).\n",
        "              Returns an empty list if the file cannot be read.\n",
        "    \"\"\"\n",
        "    try:\n",
        "        with open(filename, 'r') as file:\n",
        "            text = file.read().lower()\n",
        "            words = re.findall(r'\\b\\w+\\b', text)  # Extract words, ignoring punctuation\n",
        "            word_counts = Counter(words)\n",
        "            most_common = word_counts.most_common(top_n)\n",
        "            return most_common\n",
        "    except FileNotFoundError:\n",
        "        print(f\"Error: File '{filename}' not found.\")\n",
        "        return []\n",
        "    except Exception as e:\n",
        "        print(f\"An error occurred: {e}\")\n",
        "        return []\n",
        "\n",
        "if __name__ == \"__main__\":\n",
        "    # Create a sample.txt file for demonstration\n",
        "    with open(\"sample.txt\", \"w\") as f:\n",
        "        f.write(\"This is a sample text file. This file contains some sample words, and this is it.\")\n",
        "\n",
        "    top_words = get_most_common_words()\n",
        "    if top_words:\n",
        "        print(f\"The 5 most common words in 'sample.txt' are:\")\n",
        "        for word, count in top_words:\n",
        "            print(f\"- {word}: {count}\")"
      ],
      "metadata": {
        "colab": {
          "base_uri": "https://localhost:8080/"
        },
        "id": "GaYoaMl3kw0w",
        "outputId": "8f5732ec-3625-4890-ff9f-8759036e65cf"
      },
      "execution_count": 13,
      "outputs": [
        {
          "output_type": "stream",
          "name": "stdout",
          "text": [
            "The 5 most common words in 'sample.txt' are:\n",
            "- this: 3\n",
            "- is: 2\n",
            "- sample: 2\n",
            "- file: 2\n",
            "- a: 1\n"
          ]
        }
      ]
    },
    {
      "cell_type": "code",
      "source": [],
      "metadata": {
        "colab": {
          "base_uri": "https://localhost:8080/"
        },
        "id": "BdMORgPEkKzX",
        "outputId": "cd0a8020-3f66-4088-eafe-dd2c987c02c5"
      },
      "execution_count": 12,
      "outputs": [
        {
          "output_type": "stream",
          "name": "stdout",
          "text": [
            "Error: File not found at sample.txt\n"
          ]
        }
      ]
    },
    {
      "cell_type": "markdown",
      "source": [
        "## Section 3: NumPy & pandas"
      ],
      "metadata": {
        "id": "mVV1BgZvEE3a"
      }
    },
    {
      "cell_type": "markdown",
      "source": [
        "### **Task 4**: NumPy Matrix Magic\n",
        "\n",
        "*Instruction*: Create a 5x5 matrix with random integers from 1 to 10. Replace all elements greater than 5 with 0."
      ],
      "metadata": {
        "id": "opUK7Z7LEIr4"
      }
    },
    {
      "cell_type": "code",
      "source": [
        "import numpy as np\n",
        "\n",
        "# Step 1: Create a 5x5 matrix with random integers from 1 to 10\n",
        "matrix = np.random.randint(1, 11, size=(5, 5))\n",
        "print(\"Original Matrix:\")\n",
        "print(matrix)\n",
        "\n",
        "# Step 2: Replace all elements greater than 5 with 0\n",
        "matrix[matrix > 5] = 0\n",
        "print(\"\\nModified Matrix (elements > 5 replaced with 0):\")\n",
        "print(matrix)"
      ],
      "metadata": {
        "colab": {
          "base_uri": "https://localhost:8080/"
        },
        "id": "MaOH2G0JiURn",
        "outputId": "76c52599-8511-4740-cc7b-481c15a786d7"
      },
      "execution_count": 8,
      "outputs": [
        {
          "output_type": "stream",
          "name": "stdout",
          "text": [
            "Original Matrix:\n",
            "[[ 9  4  5  8  5]\n",
            " [ 9  1 10  5  3]\n",
            " [ 2 10  9  5  1]\n",
            " [ 7  1  4  8  6]\n",
            " [ 3  1  4  3  1]]\n",
            "\n",
            "Modified Matrix (elements > 5 replaced with 0):\n",
            "[[0 4 5 0 5]\n",
            " [0 1 0 5 3]\n",
            " [2 0 0 5 1]\n",
            " [0 1 4 0 0]\n",
            " [3 1 4 3 1]]\n"
          ]
        }
      ]
    },
    {
      "cell_type": "markdown",
      "source": [
        "### **Task 5**: pandas DataFrame Manipulation\n",
        "\n",
        "*Instruction*: Given the following dictionary, convert it into a DataFrame, calculate the average score per student, and add it as a new column."
      ],
      "metadata": {
        "id": "YuFv3sE6ET9d"
      }
    },
    {
      "cell_type": "code",
      "source": [
        "import pandas as pd\n",
        "\n",
        "# Sample data\n",
        "data = {\n",
        "    'Name': ['Alice', 'Bob', 'Charlie', 'David'],\n",
        "    'Math': [85, 90, 78, 92],\n",
        "    'Science': [88, 76, 85, 90],\n",
        "    'English': [90, 85, 80, 88]\n",
        "}\n",
        "\n",
        "# Convert dictionary to DataFrame\n",
        "df = pd.DataFrame(data)\n",
        "\n",
        "# Calculate average score per student and add as a new column\n",
        "df['Average'] = df[['Math', 'Science', 'English']].mean(axis=1)\n",
        "\n",
        "# Display the resulting DataFrame\n",
        "print(df)\n"
      ],
      "metadata": {
        "id": "horbXH8iETuH",
        "colab": {
          "base_uri": "https://localhost:8080/"
        },
        "outputId": "6a99142a-0694-455f-defd-6a0e188f8216"
      },
      "execution_count": 5,
      "outputs": [
        {
          "output_type": "stream",
          "name": "stdout",
          "text": [
            "      Name  Math  Science  English    Average\n",
            "0    Alice    85       88       90  87.666667\n",
            "1      Bob    90       76       85  83.666667\n",
            "2  Charlie    78       85       80  81.000000\n",
            "3    David    92       90       88  90.000000\n"
          ]
        }
      ]
    },
    {
      "cell_type": "markdown",
      "source": [
        "## Section 4: Visualization & Logic"
      ],
      "metadata": {
        "id": "GNO0DPi3EpgF"
      }
    },
    {
      "cell_type": "markdown",
      "source": [
        "### **Task 6**: Simple Data Visualization\n",
        "\n",
        "*Instruction*: Use matplotlib to create a bar chart showing the average score per subject from the DataFrame in the previous task."
      ],
      "metadata": {
        "id": "W74DNGaJEtdj"
      }
    },
    {
      "cell_type": "code",
      "source": [
        "import pandas as pd\n",
        "import matplotlib.pyplot as plt\n",
        "\n",
        "# Data from previous task\n",
        "data = {\n",
        "    'Name': ['Alice', 'Bob', 'Charlie', 'David'],\n",
        "    'Math': [85, 90, 78, 92],\n",
        "    'Science': [88, 76, 85, 90],\n",
        "    'English': [90, 85, 80, 88]\n",
        "}\n",
        "\n",
        "# Create DataFrame\n",
        "df = pd.DataFrame(data)\n",
        "\n",
        "# Calculate average score per subject\n",
        "subject_averages = df[['Math', 'Science', 'English']].mean()\n",
        "\n",
        "# Plot bar chart\n",
        "plt.figure(figsize=(8, 5))\n",
        "subject_averages.plot(kind='bar', color=['skyblue', 'lightgreen', 'salmon'])\n",
        "plt.title('Average Score per Subject')\n",
        "plt.ylabel('Average Score')\n",
        "plt.xlabel('Subject')\n",
        "plt.ylim(0, 100)\n",
        "plt.grid(axis='y', linestyle='--', alpha=0.7)\n",
        "plt.tight_layout()\n",
        "\n",
        "# Show plot\n",
        "plt.show()\n"
      ],
      "metadata": {
        "id": "aM8iWEAXEOmE",
        "colab": {
          "base_uri": "https://localhost:8080/",
          "height": 507
        },
        "outputId": "b16e9c3d-af2a-4ba4-94f0-5f189dddd569"
      },
      "execution_count": 6,
      "outputs": [
        {
          "output_type": "display_data",
          "data": {
            "text/plain": [
              "<Figure size 800x500 with 1 Axes>"
            ],
            "image/png": "[encoded data removed]"
          },
          "metadata": {}
        }
      ]
    },
    {
      "cell_type": "markdown",
      "source": [
        "## Section 5: Mini-Project Challenge"
      ],
      "metadata": {
        "id": "yFxPFagsE9mS"
      }
    },
    {
      "cell_type": "markdown",
      "source": [
        "### **Task 7**: Build a Mini Calculator with Exception Handling\n",
        "\n",
        "*Instruction*: Write a function that takes two numbers and an operator as input (+, -, *, /). Return the result, and handle divide-by-zero and invalid operator cases with appropriate error messages."
      ],
      "metadata": {
        "id": "IZwIOzHXFD1a"
      }
    },
    {
      "cell_type": "code",
      "source": [
        "def mini_calculator(num1, num2, operator):\n",
        "    try:\n",
        "        if operator == '+':\n",
        "            return num1 + num2\n",
        "        elif operator == '-':\n",
        "            return num1 - num2\n",
        "        elif operator == '*':\n",
        "            return num1 * num2\n",
        "        elif operator == '/':\n",
        "            if num2 == 0:\n",
        "                return \"Error: Division by zero is not allowed.\"\n",
        "            return num1 / num2\n",
        "        else:\n",
        "            return \"Error: Invalid operator. Use +, -, *, or /.\"\n",
        "    except Exception as e:\n",
        "        return f\"An unexpected error occurred: {e}\"\n",
        "\n",
        "# Example usage\n",
        "print(mini_calculator(10, 5, '+'))  # Valid addition\n",
        "print(mini_calculator(10, 0, '/'))  # Division by zero\n",
        "print(mini_calculator(10, 5, '%'))  # Invalid operator\n"
      ],
      "metadata": {
        "id": "VpUFTR1JFDWk",
        "colab": {
          "base_uri": "https://localhost:8080/"
        },
        "outputId": "f4df4556-190e-4b5c-e857-ab6a1a6a4354"
      },
      "execution_count": 7,
      "outputs": [
        {
          "output_type": "stream",
          "name": "stdout",
          "text": [
            "15\n",
            "Error: Division by zero is not allowed.\n",
            "Error: Invalid operator. Use +, -, *, or /.\n"
          ]
        }
      ]
    }
  ]
}