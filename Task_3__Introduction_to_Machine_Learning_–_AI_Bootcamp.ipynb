{
  "nbformat": 4,
  "nbformat_minor": 0,
  "metadata": {
    "colab": {
      "provenance": []
    },
    "kernelspec": {
      "name": "python3",
      "display_name": "Python 3"
    },
    "language_info": {
      "name": "python"
    }
  },
  "cells": [
    {
      "cell_type": "markdown",
      "source": [],
      "metadata": {
        "id": "m--FjP0_x3Y7"
      }
    },
    {
      "cell_type": "markdown",
      "source": [
        "# Task 3: Introduction to Machine Learning"
      ],
      "metadata": {
        "id": "L982FdumDCVn"
      }
    },
    {
      "cell_type": "markdown",
      "source": [
        "## Section 1: Setup & Dataset"
      ],
      "metadata": {
        "id": "gk9AwRFXDO6n"
      }
    },
    {
      "cell_type": "markdown",
      "source": [
        "### **Task 1**: Load the Dataset\n",
        "\n",
        "*Instruction*: Load the preprocessed Titanic dataset (from the previous module or load again if needed). Separate it into features (`X`) and target (`y`, where target = `Survived`)."
      ],
      "metadata": {
        "id": "tG2LLFb4DSrf"
      }
    },
    {
      "cell_type": "code",
      "source": [
        "import pandas as pd\n",
        "import seaborn as sns\n",
        "\n",
        "# Load Titanic dataset\n",
        "titanic = sns.load_dataset('titanic')\n",
        "\n",
        "# Select relevant columns and drop missing values\n",
        "titanic_clean = titanic[['survived', 'pclass', 'sex', 'age', 'fare']].dropna()\n",
        "\n",
        "# Encode 'sex' column: male=1, female=0\n",
        "titanic_clean['sex'] = titanic_clean['sex'].map({'male': 1, 'female': 0})\n",
        "\n",
        "# Separate features (X) and target (y)\n",
        "X = titanic_clean.drop('survived', axis=1)\n",
        "y = titanic_clean['survived']\n",
        "\n",
        "# Display shapes and sample data\n",
        "print(\"✅ Features (X) shape:\", X.shape)\n",
        "print(\"✅ Target (y) shape:\", y.shape)\n",
        "print(\"\\n🎯 Sample Features (X):\")\n",
        "print(X.head())\n",
        "\n",
        "print(\"\\n🎯 Sample Target (y):\")\n",
        "print(y.head())"
      ],
      "metadata": {
        "colab": {
          "base_uri": "https://localhost:8080/"
        },
        "id": "VZWMBT7HvuAi",
        "outputId": "2be1dd2c-5eb6-456e-cb1d-f62ee3279263"
      },
      "execution_count": 2,
      "outputs": [
        {
          "output_type": "stream",
          "name": "stdout",
          "text": [
            "✅ Features (X) shape: (714, 4)\n",
            "✅ Target (y) shape: (714,)\n",
            "\n",
            "🎯 Sample Features (X):\n",
            "   pclass  sex   age     fare\n",
            "0       3    1  22.0   7.2500\n",
            "1       1    0  38.0  71.2833\n",
            "2       3    0  26.0   7.9250\n",
            "3       1    0  35.0  53.1000\n",
            "4       3    1  35.0   8.0500\n",
            "\n",
            "🎯 Sample Target (y):\n",
            "0    0\n",
            "1    1\n",
            "2    1\n",
            "3    1\n",
            "4    0\n",
            "Name: survived, dtype: int64\n"
          ]
        }
      ]
    },
    {
      "cell_type": "markdown",
      "source": [
        "## Section 2: Splitting the Data"
      ],
      "metadata": {
        "id": "03CKwCBtDzRL"
      }
    },
    {
      "cell_type": "markdown",
      "source": [
        "### **Task 2**: Train/Test Split\n",
        "\n",
        "*Instruction*:\n",
        "\n",
        "Split the dataset into training and testing sets (80/20 split).\n"
      ],
      "metadata": {
        "id": "oh1W_9m5DuzF"
      }
    },
    {
      "cell_type": "code",
      "source": [
        "import pandas as pd\n",
        "from sklearn.model_selection import train_test_split\n",
        "\n",
        "# Assuming your data is in a pandas DataFrame called 'df'\n",
        "# Replace 'df' with the actual name of your DataFrame\n",
        "# For demonstration purposes, let's create a sample DataFrame\n",
        "data = {'feature1': range(100), 'feature2': [x * 2 for x in range(100)], 'target': [0, 1] * 50}\n",
        "df = pd.DataFrame(data)\n",
        "\n",
        "# Split the data into features (X) and target (y)\n",
        "X = df.drop('target', axis=1)\n",
        "y = df['target']\n",
        "\n",
        "# Split the data into training and testing sets (80% train, 20% test)\n",
        "X_train, X_test, y_train, y_test = train_test_split(X, y, test_size=0.2, random_state=42)\n",
        "\n",
        "# Print the shapes of the resulting datasets to verify the split\n",
        "print(\"Shape of X_train:\", X_train.shape)\n",
        "print(\"Shape of X_test:\", X_test.shape)\n",
        "print(\"Shape of y_train:\", y_train.shape)\n",
        "print(\"Shape of y_test:\", y_test.shape)\n",
        "\n",
        "# Display the first few rows of the training and testing sets\n",
        "print(\"\\nFirst 5 rows of X_train:\")\n",
        "print(X_train.head())\n",
        "\n",
        "print(\"\\nFirst 5 rows of X_test:\")\n",
        "print(X_test.head())\n",
        "\n",
        "print(\"\\nFirst 5 rows of y_train:\")\n",
        "print(y_train.head())\n",
        "\n",
        "print(\"\\nFirst 5 rows of y_test:\")\n",
        "print(y_test.head())\n"
      ],
      "metadata": {
        "id": "SQTsWR6GDn6e",
        "colab": {
          "base_uri": "https://localhost:8080/"
        },
        "outputId": "f1254900-01cd-48e1-8f05-d09347716d63"
      },
      "execution_count": null,
      "outputs": [
        {
          "output_type": "stream",
          "name": "stdout",
          "text": [
            "Shape of X_train: (80, 2)\n",
            "Shape of X_test: (20, 2)\n",
            "Shape of y_train: (80,)\n",
            "Shape of y_test: (20,)\n",
            "\n",
            "First 5 rows of X_train:\n",
            "    feature1  feature2\n",
            "55        55       110\n",
            "88        88       176\n",
            "26        26        52\n",
            "42        42        84\n",
            "69        69       138\n",
            "\n",
            "First 5 rows of X_test:\n",
            "    feature1  feature2\n",
            "83        83       166\n",
            "53        53       106\n",
            "70        70       140\n",
            "45        45        90\n",
            "44        44        88\n",
            "\n",
            "First 5 rows of y_train:\n",
            "55    1\n",
            "88    0\n",
            "26    0\n",
            "42    0\n",
            "69    1\n",
            "Name: target, dtype: int64\n",
            "\n",
            "First 5 rows of y_test:\n",
            "83    1\n",
            "53    1\n",
            "70    0\n",
            "45    1\n",
            "44    0\n",
            "Name: target, dtype: int64\n"
          ]
        }
      ]
    },
    {
      "cell_type": "markdown",
      "source": [
        "## Section 3: Train Your First Model"
      ],
      "metadata": {
        "id": "mVV1BgZvEE3a"
      }
    },
    {
      "cell_type": "markdown",
      "source": [
        "### **Task 3**: Logistic Regression\n",
        "\n",
        "*Instruction*: Train a Logistic Regression model on the Titanic dataset. Display accuracy on both train and test sets.\n",
        "\n"
      ],
      "metadata": {
        "id": "opUK7Z7LEIr4"
      }
    },
    {
      "cell_type": "code",
      "source": [
        "# Import necessary libraries\n",
        "import pandas as pd\n",
        "import seaborn as sns\n",
        "from sklearn.model_selection import train_test_split\n",
        "from sklearn.linear_model import LogisticRegression\n",
        "from sklearn.metrics import accuracy_score\n",
        "from sklearn.preprocessing import LabelEncoder\n",
        "\n",
        "# Load Titanic dataset\n",
        "titanic = sns.load_dataset('titanic')\n",
        "\n",
        "# Basic preprocessing\n",
        "# Drop rows with missing values in relevant columns\n",
        "titanic = titanic[['survived', 'pclass', 'sex', 'age', 'fare']].dropna()\n",
        "\n",
        "# Convert categorical variables\n",
        "le = LabelEncoder()\n",
        "titanic['sex'] = le.fit_transform(titanic['sex'])  # male=1, female=0\n",
        "\n",
        "# Define features and target\n",
        "X = titanic.drop('survived', axis=1)\n",
        "y = titanic['survived']\n",
        "\n",
        "# Split into training and testing data\n",
        "X_train, X_test, y_train, y_test = train_test_split(X, y, test_size=0.2, random_state=42)\n",
        "\n",
        "# Train Logistic Regression model\n",
        "logreg = LogisticRegression()\n",
        "logreg.fit(X_train, y_train)\n",
        "\n",
        "# Predict on train and test sets\n",
        "train_preds = logreg.predict(X_train)\n",
        "test_preds = logreg.predict(X_test)\n",
        "\n",
        "# Evaluate accuracy\n",
        "train_accuracy = accuracy_score(y_train, train_preds)\n",
        "test_accuracy = accuracy_score(y_test, test_preds)\n",
        "\n",
        "# Output\n",
        "print(\"🚂 Logistic Regression on Titanic Dataset\")\n",
        "print(\"✅ Training Accuracy:\", train_accuracy)\n",
        "print(\"🧪 Testing Accuracy:\", test_accuracy)"
      ],
      "metadata": {
        "colab": {
          "base_uri": "https://localhost:8080/"
        },
        "id": "TI6YQVTlpOJZ",
        "outputId": "fb9ff016-8099-462e-dcf8-6b7619b3e5f9"
      },
      "execution_count": 1,
      "outputs": [
        {
          "output_type": "stream",
          "name": "stdout",
          "text": [
            "🚂 Logistic Regression on Titanic Dataset\n",
            "✅ Training Accuracy: 0.8161120840630472\n",
            "🧪 Testing Accuracy: 0.7552447552447552\n"
          ]
        }
      ]
    },
    {
      "cell_type": "markdown",
      "source": [
        "## Section 4: Model Evaluation"
      ],
      "metadata": {
        "id": "GNO0DPi3EpgF"
      }
    },
    {
      "cell_type": "markdown",
      "source": [
        "### **Task 4**: Confusion Matrix & Classification Report\n",
        "\n",
        "*Instruction*: Evaluate the model using confusion matrix and classification report."
      ],
      "metadata": {
        "id": "W74DNGaJEtdj"
      }
    },
    {
      "cell_type": "code",
      "source": [
        "from sklearn.model_selection import train_test_split\n",
        "from sklearn.linear_model import LogisticRegression\n",
        "from sklearn.metrics import confusion_matrix, classification_report\n",
        "import pandas as pd\n",
        "import seaborn as sns\n",
        "import matplotlib.pyplot as plt\n",
        "\n",
        "# Load Titanic dataset\n",
        "titanic = sns.load_dataset('titanic')\n",
        "\n",
        "# Select relevant columns and drop missing values\n",
        "titanic_clean = titanic[['survived', 'pclass', 'sex', 'age', 'fare']].dropna()\n",
        "\n",
        "# Encode 'sex' column: male=1, female=0\n",
        "titanic_clean['sex'] = titanic_clean['sex'].map({'male': 1, 'female': 0})\n",
        "\n",
        "# Separate features (X) and target (y)\n",
        "X = titanic_clean.drop('survived', axis=1)\n",
        "y = titanic_clean['survived']\n",
        "\n",
        "# Split the data into training and testing sets\n",
        "X_train, X_test, y_train, y_test = train_test_split(X, y, test_size=0.3, random_state=42)\n",
        "\n",
        "# Initialize and train a Logistic Regression model\n",
        "model = LogisticRegression(solver='liblinear', random_state=42)\n",
        "model.fit(X_train, y_train)\n",
        "\n",
        "# Make predictions on the test set\n",
        "y_pred = model.predict(X_test)\n",
        "\n",
        "# Generate the confusion matrix\n",
        "cm = confusion_matrix(y_test, y_pred)\n",
        "\n",
        "# Plot the confusion matrix\n",
        "plt.figure(figsize=(8, 6))\n",
        "sns.heatmap(cm, annot=True, fmt='d', cmap='Blues',\n",
        "            xticklabels=['Not Survived', 'Survived'],\n",
        "            yticklabels=['Not Survived', 'Survived'])\n",
        "plt.xlabel('Predicted')\n",
        "plt.ylabel('Actual')\n",
        "plt.title('Confusion Matrix')\n",
        "plt.show()\n",
        "\n",
        "# Generate the classification report\n",
        "cr = classification_report(y_test, y_pred)\n",
        "\n",
        "print(\"\\n📊 Classification Report:\")\n",
        "print(cr)"
      ],
      "metadata": {
        "colab": {
          "base_uri": "https://localhost:8080/",
          "height": 755
        },
        "id": "n4iqF06xwFzi",
        "outputId": "a2d295c2-9ae7-46e2-ab1b-07e21efb332c"
      },
      "execution_count": 3,
      "outputs": [
        {
          "output_type": "display_data",
          "data": {
            "text/plain": [
              "<Figure size 800x600 with 2 Axes>"
            ],
            "image/png": "[encoded data removed]"
          },
          "metadata": {}
        },
        {
          "output_type": "stream",
          "name": "stdout",
          "text": [
            "\n",
            "📊 Classification Report:\n",
            "              precision    recall  f1-score   support\n",
            "\n",
            "           0       0.80      0.84      0.82       126\n",
            "           1       0.76      0.71      0.73        89\n",
            "\n",
            "    accuracy                           0.79       215\n",
            "   macro avg       0.78      0.77      0.78       215\n",
            "weighted avg       0.78      0.79      0.78       215\n",
            "\n"
          ]
        }
      ]
    },
    {
      "cell_type": "markdown",
      "source": [
        "## Section 5: Try Another Model"
      ],
      "metadata": {
        "id": "yFxPFagsE9mS"
      }
    },
    {
      "cell_type": "markdown",
      "source": [
        "### **Task 5**:  Random Forest Classifier\n",
        "\n",
        "*Instruction*: Train a `RandomForestClassifier` and compare its performance with Logistic Regression.\n"
      ],
      "metadata": {
        "id": "IZwIOzHXFD1a"
      }
    },
    {
      "cell_type": "code",
      "source": [
        "# Import required libraries\n",
        "from sklearn.datasets import load_breast_cancer\n",
        "from sklearn.model_selection import train_test_split\n",
        "from sklearn.ensemble import RandomForestClassifier\n",
        "from sklearn.linear_model import LogisticRegression\n",
        "from sklearn.metrics import accuracy_score, classification_report\n",
        "import warnings\n",
        "\n",
        "warnings.filterwarnings(\"ignore\")  # To suppress warnings from Logistic Regression\n",
        "\n",
        "# Load the dataset\n",
        "data = load_breast_cancer()\n",
        "X = data.data\n",
        "y = data.target\n",
        "\n",
        "# Split the data into training and testing sets\n",
        "X_train, X_test, y_train, y_test = train_test_split(X, y, test_size=0.3, random_state=42)\n",
        "\n",
        "# Train Logistic Regression\n",
        "logreg = LogisticRegression(max_iter=10000)\n",
        "logreg.fit(X_train, y_train)\n",
        "y_pred_logreg = logreg.predict(X_test)\n",
        "\n",
        "# Train Random Forest Classifier\n",
        "rf = RandomForestClassifier(n_estimators=100, random_state=42)\n",
        "rf.fit(X_train, y_train)\n",
        "y_pred_rf = rf.predict(X_test)\n",
        "\n",
        "# Evaluate both models\n",
        "print(\"🔍 Logistic Regression Accuracy:\", accuracy_score(y_test, y_pred_logreg))\n",
        "print(\"🔍 Random Forest Accuracy:\", accuracy_score(y_test, y_pred_rf))\n",
        "\n",
        "print(\"\\n📊 Logistic Regression Classification Report:\\n\", classification_report(y_test, y_pred_logreg))\n",
        "print(\"\\n🌲 Random Forest Classification Report:\\n\", classification_report(y_test, y_pred_rf))\n"
      ],
      "metadata": {
        "id": "VpUFTR1JFDWk",
        "colab": {
          "base_uri": "https://localhost:8080/"
        },
        "outputId": "9cbd8376-9478-4e29-d037-300a3e56fe63"
      },
      "execution_count": null,
      "outputs": [
        {
          "output_type": "stream",
          "name": "stdout",
          "text": [
            "🔍 Logistic Regression Accuracy: 0.9766081871345029\n",
            "🔍 Random Forest Accuracy: 0.9707602339181286\n",
            "\n",
            "📊 Logistic Regression Classification Report:\n",
            "               precision    recall  f1-score   support\n",
            "\n",
            "           0       0.97      0.97      0.97        63\n",
            "           1       0.98      0.98      0.98       108\n",
            "\n",
            "    accuracy                           0.98       171\n",
            "   macro avg       0.97      0.97      0.97       171\n",
            "weighted avg       0.98      0.98      0.98       171\n",
            "\n",
            "\n",
            "🌲 Random Forest Classification Report:\n",
            "               precision    recall  f1-score   support\n",
            "\n",
            "           0       0.98      0.94      0.96        63\n",
            "           1       0.96      0.99      0.98       108\n",
            "\n",
            "    accuracy                           0.97       171\n",
            "   macro avg       0.97      0.96      0.97       171\n",
            "weighted avg       0.97      0.97      0.97       171\n",
            "\n"
          ]
        }
      ]
    },
    {
      "cell_type": "markdown",
      "source": [
        "## Section 6: Model Tuning"
      ],
      "metadata": {
        "id": "w-OY1jI5IaIB"
      }
    },
    {
      "cell_type": "markdown",
      "source": [
        "### **Task 6**: Hyperparameter Tuning (GridSearch)\n",
        "\n",
        "*Instruction*:Use `GridSearchCV` to tune `n_estimators` and `max_depth` of the Random Forest model."
      ],
      "metadata": {
        "id": "xeBCcr3RIi-8"
      }
    },
    {
      "cell_type": "code",
      "source": [
        "from sklearn.model_selection import train_test_split, GridSearchCV\n",
        "from sklearn.ensemble import RandomForestClassifier\n",
        "from sklearn.metrics import confusion_matrix, classification_report\n",
        "import pandas as pd\n",
        "import seaborn as sns\n",
        "import matplotlib.pyplot as plt\n",
        "\n",
        "# Load Titanic dataset\n",
        "titanic = sns.load_dataset('titanic')\n",
        "\n",
        "# Select relevant columns and drop missing values\n",
        "titanic_clean = titanic[['survived', 'pclass', 'sex', 'age', 'fare']].dropna()\n",
        "\n",
        "# Encode 'sex' column: male=1, female=0\n",
        "titanic_clean['sex'] = titanic_clean['sex'].map({'male': 1, 'female': 0})\n",
        "\n",
        "# Separate features (X) and target (y)\n",
        "X = titanic_clean.drop('survived', axis=1)\n",
        "y = titanic_clean['survived']\n",
        "\n",
        "# Split the data into training and testing sets\n",
        "X_train, X_test, y_train, y_test = train_test_split(X, y, test_size=0.3, random_state=42)\n",
        "\n",
        "# Define the parameter grid to search\n",
        "param_grid = {\n",
        "    'n_estimators': [50, 100, 200, 300],\n",
        "    'max_depth': [None, 5, 10, 15]\n",
        "}\n",
        "\n",
        "# Initialize the Random Forest Classifier\n",
        "rf_model = RandomForestClassifier(random_state=42)\n",
        "\n",
        "# Initialize GridSearchCV\n",
        "grid_search = GridSearchCV(estimator=rf_model,\n",
        "                           param_grid=param_grid,\n",
        "                           cv=5,  # 5-fold cross-validation\n",
        "                           scoring='accuracy',\n",
        "                           n_jobs=-1)  # Use all available cores\n",
        "\n",
        "# Fit GridSearchCV to the training data\n",
        "grid_search.fit(X_train, y_train)\n",
        "\n",
        "# Get the best parameters and the best score\n",
        "best_params = grid_search.best_params_\n",
        "best_score = grid_search.best_score_\n",
        "\n",
        "print(\"🏆 Best Hyperparameters:\", best_params)\n",
        "print(\"🥇 Best Accuracy Score (on training data with cross-validation):\", best_score)\n",
        "\n",
        "# Evaluate the best model on the test set\n",
        "best_rf_model = grid_search.best_estimator_\n",
        "y_pred = best_rf_model.predict(X_test)\n",
        "\n",
        "# Generate the confusion matrix for the best model\n",
        "cm = confusion_matrix(y_test, y_pred)\n",
        "\n",
        "# Plot the confusion matrix\n",
        "plt.figure(figsize=(8, 6))\n",
        "sns.heatmap(cm, annot=True, fmt='d', cmap='Greens',\n",
        "            xticklabels=['Not Survived', 'Survived'],\n",
        "            yticklabels=['Not Survived', 'Survived'])\n",
        "plt.xlabel('Predicted')\n",
        "plt.ylabel('Actual')\n",
        "plt.title('Confusion Matrix (Best Random Forest Model)')\n",
        "plt.show()\n",
        "\n",
        "# Generate the classification report for the best model\n",
        "cr = classification_report(y_test, y_pred)\n",
        "\n",
        "print(\"\\n📊 Classification Report (Best Random Forest Model):\")\n",
        "print(cr)"
      ],
      "metadata": {
        "colab": {
          "base_uri": "https://localhost:8080/",
          "height": 790
        },
        "id": "eIoTeZ4VxA7y",
        "outputId": "bd28f62d-db18-4237-d817-b394dcf8ce53"
      },
      "execution_count": 5,
      "outputs": [
        {
          "output_type": "stream",
          "name": "stdout",
          "text": [
            "🏆 Best Hyperparameters: {'max_depth': 5, 'n_estimators': 100}\n",
            "🥇 Best Accuracy Score (on training data with cross-validation): 0.8316969696969696\n"
          ]
        },
        {
          "output_type": "display_data",
          "data": {
            "text/plain": [
              "<Figure size 800x600 with 2 Axes>"
            ],
            "image/png": "[encoded data removed]"
          },
          "metadata": {}
        },
        {
          "output_type": "stream",
          "name": "stdout",
          "text": [
            "\n",
            "📊 Classification Report (Best Random Forest Model):\n",
            "              precision    recall  f1-score   support\n",
            "\n",
            "           0       0.78      0.89      0.83       126\n",
            "           1       0.80      0.64      0.71        89\n",
            "\n",
            "    accuracy                           0.79       215\n",
            "   macro avg       0.79      0.76      0.77       215\n",
            "weighted avg       0.79      0.79      0.78       215\n",
            "\n"
          ]
        }
      ]
    }
  ]
}